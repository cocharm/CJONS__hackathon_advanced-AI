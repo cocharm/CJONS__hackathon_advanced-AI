{
  "nbformat": 4,
  "nbformat_minor": 0,
  "metadata": {
    "colab": {
      "provenance": [],
      "gpuType": "A100",
      "machine_shape": "hm"
    },
    "kernelspec": {
      "name": "python3",
      "display_name": "Python 3"
    },
    "language_info": {
      "name": "python"
    },
    "accelerator": "GPU"
  },
  "cells": [
    {
      "cell_type": "code",
      "execution_count": null,
      "metadata": {
        "id": "c6IUxKwLyI3c"
      },
      "outputs": [],
      "source": [
        "import random\n",
        "import os\n",
        "import pandas as pd\n",
        "from transformers import AutoConfig\n",
        "from transformers import AutoTokenizer, AutoModelForSequenceClassification\n",
        "from torch.utils.data import Dataset, DataLoader\n",
        "from sklearn.model_selection import train_test_split\n",
        "from sklearn.metrics import accuracy_score\n",
        "import torch\n",
        "import matplotlib.pyplot as plt\n",
        "from torch.optim.lr_scheduler import StepLR\n",
        "from google.colab import drive\n",
        "import numpy as np"
      ]
    },
    {
      "cell_type": "code",
      "source": [
        "!pip install transformers"
      ],
      "metadata": {
        "colab": {
          "base_uri": "https://localhost:8080/"
        },
        "id": "i3XrMxV9pDOB",
        "outputId": "b30faa8c-82ed-4c84-fd52-7a15023dc6bb"
      },
      "execution_count": null,
      "outputs": [
        {
          "output_type": "stream",
          "name": "stdout",
          "text": [
            "Requirement already satisfied: transformers in /usr/local/lib/python3.10/dist-packages (4.31.0)\n",
            "Requirement already satisfied: filelock in /usr/local/lib/python3.10/dist-packages (from transformers) (3.12.2)\n",
            "Requirement already satisfied: huggingface-hub<1.0,>=0.14.1 in /usr/local/lib/python3.10/dist-packages (from transformers) (0.16.4)\n",
            "Requirement already satisfied: numpy>=1.17 in /usr/local/lib/python3.10/dist-packages (from transformers) (1.22.4)\n",
            "Requirement already satisfied: packaging>=20.0 in /usr/local/lib/python3.10/dist-packages (from transformers) (23.1)\n",
            "Requirement already satisfied: pyyaml>=5.1 in /usr/local/lib/python3.10/dist-packages (from transformers) (6.0.1)\n",
            "Requirement already satisfied: regex!=2019.12.17 in /usr/local/lib/python3.10/dist-packages (from transformers) (2022.10.31)\n",
            "Requirement already satisfied: requests in /usr/local/lib/python3.10/dist-packages (from transformers) (2.27.1)\n",
            "Requirement already satisfied: tokenizers!=0.11.3,<0.14,>=0.11.1 in /usr/local/lib/python3.10/dist-packages (from transformers) (0.13.3)\n",
            "Requirement already satisfied: safetensors>=0.3.1 in /usr/local/lib/python3.10/dist-packages (from transformers) (0.3.2)\n",
            "Requirement already satisfied: tqdm>=4.27 in /usr/local/lib/python3.10/dist-packages (from transformers) (4.65.0)\n",
            "Requirement already satisfied: fsspec in /usr/local/lib/python3.10/dist-packages (from huggingface-hub<1.0,>=0.14.1->transformers) (2023.6.0)\n",
            "Requirement already satisfied: typing-extensions>=3.7.4.3 in /usr/local/lib/python3.10/dist-packages (from huggingface-hub<1.0,>=0.14.1->transformers) (4.7.1)\n",
            "Requirement already satisfied: urllib3<1.27,>=1.21.1 in /usr/local/lib/python3.10/dist-packages (from requests->transformers) (1.26.16)\n",
            "Requirement already satisfied: certifi>=2017.4.17 in /usr/local/lib/python3.10/dist-packages (from requests->transformers) (2023.7.22)\n",
            "Requirement already satisfied: charset-normalizer~=2.0.0 in /usr/local/lib/python3.10/dist-packages (from requests->transformers) (2.0.12)\n",
            "Requirement already satisfied: idna<4,>=2.5 in /usr/local/lib/python3.10/dist-packages (from requests->transformers) (3.4)\n"
          ]
        }
      ]
    },
    {
      "cell_type": "code",
      "source": [
        "!pip install transformers"
      ],
      "metadata": {
        "colab": {
          "base_uri": "https://localhost:8080/"
        },
        "id": "8-yWDQC7mly9",
        "outputId": "1c34038a-78b5-41ed-e82d-f36e496a4ef0"
      },
      "execution_count": null,
      "outputs": [
        {
          "output_type": "stream",
          "name": "stdout",
          "text": [
            "Requirement already satisfied: transformers in /usr/local/lib/python3.10/dist-packages (4.31.0)\n",
            "Requirement already satisfied: filelock in /usr/local/lib/python3.10/dist-packages (from transformers) (3.12.2)\n",
            "Requirement already satisfied: huggingface-hub<1.0,>=0.14.1 in /usr/local/lib/python3.10/dist-packages (from transformers) (0.16.4)\n",
            "Requirement already satisfied: numpy>=1.17 in /usr/local/lib/python3.10/dist-packages (from transformers) (1.22.4)\n",
            "Requirement already satisfied: packaging>=20.0 in /usr/local/lib/python3.10/dist-packages (from transformers) (23.1)\n",
            "Requirement already satisfied: pyyaml>=5.1 in /usr/local/lib/python3.10/dist-packages (from transformers) (6.0.1)\n",
            "Requirement already satisfied: regex!=2019.12.17 in /usr/local/lib/python3.10/dist-packages (from transformers) (2022.10.31)\n",
            "Requirement already satisfied: requests in /usr/local/lib/python3.10/dist-packages (from transformers) (2.27.1)\n",
            "Requirement already satisfied: tokenizers!=0.11.3,<0.14,>=0.11.1 in /usr/local/lib/python3.10/dist-packages (from transformers) (0.13.3)\n",
            "Requirement already satisfied: safetensors>=0.3.1 in /usr/local/lib/python3.10/dist-packages (from transformers) (0.3.2)\n",
            "Requirement already satisfied: tqdm>=4.27 in /usr/local/lib/python3.10/dist-packages (from transformers) (4.65.0)\n",
            "Requirement already satisfied: fsspec in /usr/local/lib/python3.10/dist-packages (from huggingface-hub<1.0,>=0.14.1->transformers) (2023.6.0)\n",
            "Requirement already satisfied: typing-extensions>=3.7.4.3 in /usr/local/lib/python3.10/dist-packages (from huggingface-hub<1.0,>=0.14.1->transformers) (4.7.1)\n",
            "Requirement already satisfied: urllib3<1.27,>=1.21.1 in /usr/local/lib/python3.10/dist-packages (from requests->transformers) (1.26.16)\n",
            "Requirement already satisfied: certifi>=2017.4.17 in /usr/local/lib/python3.10/dist-packages (from requests->transformers) (2023.7.22)\n",
            "Requirement already satisfied: charset-normalizer~=2.0.0 in /usr/local/lib/python3.10/dist-packages (from requests->transformers) (2.0.12)\n",
            "Requirement already satisfied: idna<4,>=2.5 in /usr/local/lib/python3.10/dist-packages (from requests->transformers) (3.4)\n"
          ]
        }
      ]
    },
    {
      "cell_type": "code",
      "source": [
        "def set_seed(seed):\n",
        "    random.seed(seed)\n",
        "    np.random.seed(seed)\n",
        "    torch.manual_seed(seed)\n",
        "    torch.cuda.manual_seed_all(seed)\n",
        "    os.environ['PYTHONHASHSEED'] = str(seed)\n",
        "    torch.backends.cudnn.deterministic = True\n",
        "    torch.backends.cudnn.benchmark = False\n",
        "\n",
        "set_seed(42)"
      ],
      "metadata": {
        "id": "78QKV18Y0n3P"
      },
      "execution_count": null,
      "outputs": []
    },
    {
      "cell_type": "code",
      "source": [
        "drive.mount('/content/drive/')\n",
        "\n",
        "extracted_labeled_reviews_df = pd.read_csv('/content/drive/My Drive/Colab Notebooks/extracted_labeled_reviews.csv',sep = ',')\n",
        "\n",
        "extracted_labeled_reviews_df.rename(columns={\n",
        "    'label': 'sentiment',\n",
        "    'review': 'txt',\n",
        "\n",
        "}, inplace=True)\n",
        "\n",
        "extracted_labeled_reviews_df['txt'] = extracted_labeled_reviews_df['txt'].str.replace('\\n', ' ').replace('\\r', ' ')\n"
      ],
      "metadata": {
        "colab": {
          "base_uri": "https://localhost:8080/"
        },
        "id": "sGPLwzZlybsp",
        "outputId": "0eebe84c-8fb4-4b26-831c-28c943bd549b"
      },
      "execution_count": null,
      "outputs": [
        {
          "output_type": "stream",
          "name": "stdout",
          "text": [
            "Drive already mounted at /content/drive/; to attempt to forcibly remount, call drive.mount(\"/content/drive/\", force_remount=True).\n"
          ]
        }
      ]
    },
    {
      "cell_type": "code",
      "source": [
        "# 모델 및 토크나이저 초기화\n",
        "tokenizer = AutoTokenizer.from_pretrained(\"monologg/koelectra-base-v3-discriminator\")\n",
        "#model = AutoModelForSequenceClassification.from_pretrained(\"monologg/koelectra-base-v3-discriminator\", num_labels=2)  # 감성 라벨이 긍정/부정 두개이므로 num_labels=2으로 설정\n",
        "\n",
        "config = AutoConfig.from_pretrained(\n",
        "    \"monologg/koelectra-base-v3-discriminator\",\n",
        "    num_labels=2,\n",
        "    hidden_dropout_prob=0.2,  # hidden layer의 dropout 비율을 0.1로 설정\n",
        "    attention_probs_dropout_prob=0.2  # attention probabilities의 dropout 비율을 0.1로 설정\n",
        ")\n",
        "\n",
        "model = AutoModelForSequenceClassification.from_pretrained(\n",
        "    \"monologg/koelectra-base-v3-discriminator\",\n",
        "    config=config\n",
        ")"
      ],
      "metadata": {
        "colab": {
          "base_uri": "https://localhost:8080/"
        },
        "id": "n-x-suDsWOPv",
        "outputId": "5fc4be85-f059-4334-90e6-77ed5a0b3b04"
      },
      "execution_count": null,
      "outputs": [
        {
          "output_type": "stream",
          "name": "stderr",
          "text": [
            "Some weights of ElectraForSequenceClassification were not initialized from the model checkpoint at monologg/koelectra-base-v3-discriminator and are newly initialized: ['classifier.out_proj.bias', 'classifier.out_proj.weight', 'classifier.dense.weight', 'classifier.dense.bias']\n",
            "You should probably TRAIN this model on a down-stream task to be able to use it for predictions and inference.\n"
          ]
        }
      ]
    },
    {
      "cell_type": "code",
      "source": [
        "class ReviewDataset(Dataset):\n",
        "    def __init__(self, data, tokenizer, max_len):\n",
        "        self.tokenizer = tokenizer\n",
        "        self.max_len = max_len\n",
        "\n",
        "        # 토큰화한 길이를 계산하고, max_len보다 큰 데이터를 필터링합니다.\n",
        "        self.data = data[data['txt'].apply(lambda x: len(self.tokenizer.tokenize(x)) < self.max_len)]\n",
        "\n",
        "    def __getitem__(self, idx):\n",
        "        row = self.data.iloc[idx]\n",
        "        text = row['txt']\n",
        "        label = row['sentiment']\n",
        "\n",
        "        inputs = self.tokenizer.encode_plus(\n",
        "            text,\n",
        "            truncation=True,\n",
        "            add_special_tokens=True,\n",
        "            max_length=self.max_len,\n",
        "            padding='max_length',\n",
        "            return_attention_mask=True,\n",
        "            return_tensors='pt'\n",
        "        )\n",
        "\n",
        "        return {\n",
        "            'ids': inputs['input_ids'].flatten(),\n",
        "            'mask': inputs['attention_mask'].flatten(),\n",
        "            'targets': torch.tensor(label, dtype=torch.long)\n",
        "        }\n",
        "\n",
        "    def __len__(self):\n",
        "        return len(self.data)"
      ],
      "metadata": {
        "id": "ehG9sSQNybwR"
      },
      "execution_count": null,
      "outputs": []
    },
    {
      "cell_type": "code",
      "source": [
        "# 데이터를 학습 데이터와 테스트 데이터로 분리한 후, 학습데이터를 다시 검증데이터로 분리\n",
        "train_data, test_data = train_test_split(extracted_labeled_reviews_df, test_size=0.2)\n",
        "train_data, val_data = train_test_split(train_data, test_size=0.25)"
      ],
      "metadata": {
        "id": "kwSguZ6YXSBM"
      },
      "execution_count": null,
      "outputs": []
    },
    {
      "cell_type": "code",
      "source": [
        "# DataLoader 준비\n",
        "train_dataset = ReviewDataset(train_data, tokenizer, max_len=256)\n",
        "val_dataset = ReviewDataset(val_data, tokenizer, max_len=256)\n",
        "test_dataset = ReviewDataset(test_data, tokenizer, max_len=256)"
      ],
      "metadata": {
        "id": "29Ozn9HUyb0h",
        "colab": {
          "base_uri": "https://localhost:8080/"
        },
        "outputId": "a2e4f5f3-aa41-43cb-f12b-faf500fd79fd"
      },
      "execution_count": null,
      "outputs": [
        {
          "output_type": "stream",
          "name": "stderr",
          "text": [
            "Token indices sequence length is longer than the specified maximum sequence length for this model (655 > 512). Running this sequence through the model will result in indexing errors\n"
          ]
        }
      ]
    },
    {
      "cell_type": "code",
      "source": [
        "train_length = len(train_dataset)\n",
        "val_length = len(val_dataset)\n",
        "test_length = len(test_dataset)\n",
        "\n",
        "print(f\"Training Dataset Length: {train_length}\")\n",
        "print(f\"Validation Dataset Length: {val_length}\")\n",
        "print(f\"Test Dataset Length: {test_length}\")"
      ],
      "metadata": {
        "colab": {
          "base_uri": "https://localhost:8080/"
        },
        "id": "LZVt1oBi8j7k",
        "outputId": "a2388fed-fc55-4413-9ad8-cca2d0418d82"
      },
      "execution_count": null,
      "outputs": [
        {
          "output_type": "stream",
          "name": "stdout",
          "text": [
            "Training Dataset Length: 1583\n",
            "Validation Dataset Length: 529\n",
            "Test Dataset Length: 524\n"
          ]
        }
      ]
    },
    {
      "cell_type": "code",
      "source": [
        "train_loader = DataLoader(train_dataset, batch_size=256, shuffle=True)\n",
        "val_loader = DataLoader(val_dataset, batch_size=256, shuffle=False)\n",
        "test_loader = DataLoader(test_dataset, batch_size=256, shuffle=False)"
      ],
      "metadata": {
        "id": "bDPzer0dyb2n"
      },
      "execution_count": null,
      "outputs": []
    },
    {
      "cell_type": "code",
      "source": [
        "# 옵티마이저 및 손실함수 설정\n",
        "optimizer = torch.optim.Adam(params=model.parameters(), lr=1e-5, weight_decay= 0.0005)\n",
        "loss_fn = torch.nn.CrossEntropyLoss()  # 다중 클래스 분류를 위한 크로스 엔트로피 손실 함수 사용"
      ],
      "metadata": {
        "id": "6Tig0WWsyb48"
      },
      "execution_count": null,
      "outputs": []
    },
    {
      "cell_type": "code",
      "source": [
        "# 모델 학습\n",
        "model.train()\n",
        "best_accuracy = 0.0\n",
        "train_loss_list = []  # Added: list to keep track of average loss per epoch\n",
        "train_accuracy_list = []  # Added: list to keep track of training accuracy per epoch\n",
        "val_loss_list = []  # Added: list to keep track of validation loss per epoch\n",
        "val_accuracy_list = []  # Added: list to keep track of validation accuracy per epoch\n",
        "\n",
        "scheduler = StepLR(optimizer, step_size=10, gamma=0.4)  # Reduce learning rate by a factor of 0.4 every 10 epochs\n",
        "\n",
        "for epoch in range(13):  # 14 에폭\n",
        "    model.train()  # 1번 문제점 수정: 에폭 시작 시 모델을 훈련 모드로 설정\n",
        "    total_loss = 0.0  # Added: variable to keep track of total loss within an epoch\n",
        "    train_correct = 0  # Added: variable to keep track of correctly predicted samples\n",
        "    train_total = 0  # Added: variable to keep track of total samples\n",
        "    for batch in train_loader:\n",
        "        optimizer.zero_grad()\n",
        "        input_ids = batch['ids']\n",
        "        attention_mask = batch['mask']\n",
        "        targets = batch['targets']\n",
        "\n",
        "        outputs = model(input_ids=input_ids, attention_mask=attention_mask, labels=targets)\n",
        "        loss = outputs.loss\n",
        "        total_loss += loss.item()  # Added: increment total_loss with the batch loss\n",
        "\n",
        "        # Added: calculate training accuracy for the batch\n",
        "        _, predicted = torch.max(outputs.logits, 1)\n",
        "        train_total += targets.size(0)\n",
        "        train_correct += (predicted == targets).sum().item()\n",
        "\n",
        "        loss.backward()\n",
        "        optimizer.step()\n",
        "\n",
        "    scheduler.step()  # step the learning rate scheduler\n",
        "\n",
        "    train_loss_list.append(total_loss/len(train_loader))  # Added: compute average loss and append to list\n",
        "\n",
        "    # Added: compute training accuracy for the epoch and append to list\n",
        "    train_accuracy = train_correct / train_total\n",
        "    train_accuracy_list.append(train_accuracy)\n",
        "\n",
        "    model.eval()\n",
        "    val_loss = 0.0  # Added: variable to keep track of total validation loss\n",
        "    preds = []\n",
        "    actual = []\n",
        "    for batch in val_loader:\n",
        "        input_ids = batch['ids']\n",
        "        attention_mask = batch['mask']\n",
        "        targets = batch['targets']\n",
        "        with torch.no_grad():\n",
        "            outputs = model(input_ids=input_ids, attention_mask=attention_mask,labels=targets)\n",
        "            val_loss += outputs.loss.item()  # Added: increment val_loss with the batch loss\n",
        "        preds.extend(torch.argmax(outputs.logits, axis=-1).tolist())\n",
        "        actual.extend(targets.tolist())\n",
        "\n",
        "    # Added: compute average validation loss and append to list\n",
        "    val_loss_list.append(val_loss/len(val_loader))\n",
        "\n",
        "    # 정확도 계산\n",
        "    accuracy = accuracy_score(actual, preds)\n",
        "    val_accuracy_list.append(accuracy)\n",
        "    print(f\"Epoch {epoch+1} - Validation Accuracy: {accuracy} - Train Accuracy: {train_accuracy}\")\n",
        "    print(f\"Epoch {epoch+1} - Val Loss: {val_loss/len(val_loader)} - Train Loss: {total_loss/len(train_loader)}\")\n",
        "\n",
        "    # 가장 좋은 성능을 보인 모델 저장\n",
        "    if accuracy > best_accuracy:\n",
        "        best_accuracy = accuracy\n",
        "        torch.save(model.state_dict(),'/content/drive/MyDrive/Colab Notebooks/L25_drop02_10epoch_sche0_4_best_model.pth')"
      ],
      "metadata": {
        "id": "utIAwJtpyxOn",
        "colab": {
          "base_uri": "https://localhost:8080/"
        },
        "outputId": "ddb71754-f41d-4a78-ec51-e5af5fa0c552"
      },
      "execution_count": null,
      "outputs": [
        {
          "output_type": "stream",
          "name": "stdout",
          "text": [
            "Epoch 1 - Validation Accuracy: 0.6011342155009451 - Train Accuracy: 0.4933670246367656\n",
            "Epoch 1 - Val Loss: 0.6902727087338766 - Train Loss: 0.6941788026264736\n",
            "Epoch 2 - Validation Accuracy: 0.6257088846880907 - Train Accuracy: 0.5394819962097284\n",
            "Epoch 2 - Val Loss: 0.6894557277361552 - Train Loss: 0.6896628226552691\n",
            "Epoch 3 - Validation Accuracy: 0.720226843100189 - Train Accuracy: 0.5868603916614024\n",
            "Epoch 3 - Val Loss: 0.6844893495241801 - Train Loss: 0.6851647070475987\n",
            "Epoch 4 - Validation Accuracy: 0.7410207939508506 - Train Accuracy: 0.607706885660139\n",
            "Epoch 4 - Val Loss: 0.6783228516578674 - Train Loss: 0.682396011693137\n",
            "Epoch 5 - Validation Accuracy: 0.7958412098298677 - Train Accuracy: 0.6519267214150347\n",
            "Epoch 5 - Val Loss: 0.6694900592168173 - Train Loss: 0.6756606783185687\n",
            "Epoch 6 - Validation Accuracy: 0.833648393194707 - Train Accuracy: 0.7087807959570436\n",
            "Epoch 6 - Val Loss: 0.6487642526626587 - Train Loss: 0.663455171244485\n",
            "Epoch 7 - Validation Accuracy: 0.8638941398865785 - Train Accuracy: 0.7877447883765003\n",
            "Epoch 7 - Val Loss: 0.597530722618103 - Train Loss: 0.6335978167397636\n",
            "Epoch 8 - Validation Accuracy: 0.8733459357277883 - Train Accuracy: 0.8445988629185092\n",
            "Epoch 8 - Val Loss: 0.5060371657212576 - Train Loss: 0.5756620509283883\n",
            "Epoch 9 - Validation Accuracy: 0.8752362948960303 - Train Accuracy: 0.86481364497789\n",
            "Epoch 9 - Val Loss: 0.39948520064353943 - Train Loss: 0.4907937560762678\n",
            "Epoch 10 - Validation Accuracy: 0.8865784499054821 - Train Accuracy: 0.8768161718256475\n",
            "Epoch 10 - Val Loss: 0.3351060748100281 - Train Loss: 0.4199111589363643\n",
            "Epoch 11 - Validation Accuracy: 0.8922495274102079 - Train Accuracy: 0.8888186986734049\n",
            "Epoch 11 - Val Loss: 0.32319339116414386 - Train Loss: 0.37219761524881634\n",
            "Epoch 12 - Validation Accuracy: 0.888468809073724 - Train Accuracy: 0.8875552747946936\n",
            "Epoch 12 - Val Loss: 0.30486860871315 - Train Loss: 0.3736004744257246\n",
            "Epoch 13 - Validation Accuracy: 0.8941398865784499 - Train Accuracy: 0.8989260897030954\n",
            "Epoch 13 - Val Loss: 0.2928904990355174 - Train Loss: 0.3380332716873714\n"
          ]
        }
      ]
    },
    {
      "cell_type": "code",
      "source": [
        "# 손실 그래프 그리기\n",
        "plt.figure(figsize=(12, 4))\n",
        "\n",
        "# 훈련 및 검증 손실 그래프\n",
        "plt.subplot(1, 2, 1)\n",
        "plt.plot(train_loss_list, label=\"Train Loss\")\n",
        "plt.plot(val_loss_list, label=\"Validation Loss\")\n",
        "plt.title(\"Loss over Epochs\")\n",
        "plt.xlabel(\"Epochs\")\n",
        "plt.ylabel(\"Loss\")\n",
        "plt.legend()\n",
        "\n",
        "# 훈련 및 검증 정확도 그래프\n",
        "plt.subplot(1, 2, 2)\n",
        "plt.plot(train_accuracy_list, label=\"Train Accuracy\")\n",
        "plt.plot(val_accuracy_list, label=\"Validation Accuracy\")\n",
        "plt.title(\"Accuracy over Epochs\")\n",
        "plt.xlabel(\"Epochs\")\n",
        "plt.ylabel(\"Accuracy\")\n",
        "plt.legend()\n",
        "\n",
        "plt.tight_layout()\n",
        "plt.show()"
      ],
      "metadata": {
        "id": "YkFnodG4MchS",
        "colab": {
          "base_uri": "https://localhost:8080/"
        },
        "outputId": "6a84617a-0e91-43de-8ab0-279af82eb53a"
      },
      "execution_count": null,
      "outputs": [
        {
          "output_type": "display_data",
          "data": {
            "text/plain": [
              "<Figure size 1200x400 with 2 Axes>"
            ],
            "image/png": "[encoded data removed]"
          },
          "metadata": {}
        }
      ]
    },
    {
      "cell_type": "code",
      "source": [
        "# 모델 로드\n",
        "model.load_state_dict(torch.load('/content/drive/MyDrive/Colab Notebooks/L25_drop02_10epoch_sche0_4_best_model.pth'))\n",
        "model.eval()"
      ],
      "metadata": {
        "id": "LkphLu3kqQHb",
        "colab": {
          "base_uri": "https://localhost:8080/"
        },
        "outputId": "0944d22d-ed4c-496f-dc0f-11a72e0491cc"
      },
      "execution_count": null,
      "outputs": [
        {
          "output_type": "execute_result",
          "data": {
            "text/plain": [
              "ElectraForSequenceClassification(\n",
              "  (electra): ElectraModel(\n",
              "    (embeddings): ElectraEmbeddings(\n",
              "      (word_embeddings): Embedding(35000, 768, padding_idx=0)\n",
              "      (position_embeddings): Embedding(512, 768)\n",
              "      (token_type_embeddings): Embedding(2, 768)\n",
              "      (LayerNorm): LayerNorm((768,), eps=1e-12, elementwise_affine=True)\n",
              "      (dropout): Dropout(p=0.2, inplace=False)\n",
              "    )\n",
              "    (encoder): ElectraEncoder(\n",
              "      (layer): ModuleList(\n",
              "        (0-11): 12 x ElectraLayer(\n",
              "          (attention): ElectraAttention(\n",
              "            (self): ElectraSelfAttention(\n",
              "              (query): Linear(in_features=768, out_features=768, bias=True)\n",
              "              (key): Linear(in_features=768, out_features=768, bias=True)\n",
              "              (value): Linear(in_features=768, out_features=768, bias=True)\n",
              "              (dropout): Dropout(p=0.2, inplace=False)\n",
              "            )\n",
              "            (output): ElectraSelfOutput(\n",
              "              (dense): Linear(in_features=768, out_features=768, bias=True)\n",
              "              (LayerNorm): LayerNorm((768,), eps=1e-12, elementwise_affine=True)\n",
              "              (dropout): Dropout(p=0.2, inplace=False)\n",
              "            )\n",
              "          )\n",
              "          (intermediate): ElectraIntermediate(\n",
              "            (dense): Linear(in_features=768, out_features=3072, bias=True)\n",
              "            (intermediate_act_fn): GELUActivation()\n",
              "          )\n",
              "          (output): ElectraOutput(\n",
              "            (dense): Linear(in_features=3072, out_features=768, bias=True)\n",
              "            (LayerNorm): LayerNorm((768,), eps=1e-12, elementwise_affine=True)\n",
              "            (dropout): Dropout(p=0.2, inplace=False)\n",
              "          )\n",
              "        )\n",
              "      )\n",
              "    )\n",
              "  )\n",
              "  (classifier): ElectraClassificationHead(\n",
              "    (dense): Linear(in_features=768, out_features=768, bias=True)\n",
              "    (dropout): Dropout(p=0.2, inplace=False)\n",
              "    (out_proj): Linear(in_features=768, out_features=2, bias=True)\n",
              "  )\n",
              ")"
            ]
          },
          "metadata": {},
          "execution_count": 15
        }
      ]
    },
    {
      "cell_type": "code",
      "source": [
        "def evaluate_model(model, test_loader):\n",
        "    model.eval()\n",
        "\n",
        "    eval_total_loss = 0.0\n",
        "    eval_correct_preds = 0\n",
        "    eval_total_preds = 0\n",
        "    criterion = torch.nn.CrossEntropyLoss()\n",
        "    eval_preds = []\n",
        "    eval_actual = []\n",
        "\n",
        "    with torch.no_grad():\n",
        "        for batch in test_loader:\n",
        "            input_ids = batch['ids']\n",
        "            attention_mask = batch['mask']\n",
        "            labels = batch['targets']\n",
        "\n",
        "            outputs = model(input_ids=input_ids, attention_mask=attention_mask, labels=labels)\n",
        "\n",
        "            # Calculate loss\n",
        "            loss = criterion(outputs.logits, labels)\n",
        "            eval_total_loss += loss.item()\n",
        "\n",
        "            _, predicted = torch.max(outputs.logits, 1)\n",
        "            eval_total_preds += labels.size(0)\n",
        "            eval_correct_preds += (predicted == labels).sum().item()\n",
        "\n",
        "            eval_preds.extend(predicted.tolist())\n",
        "            eval_actual.extend(targets.tolist())\n",
        "\n",
        "    eval_accuracy = eval_correct_preds / eval_total_preds  # Updated variable name\n",
        "    avg_loss = eval_total_loss / len(test_loader)\n",
        "\n",
        "    return eval_accuracy, avg_loss, eval_preds, eval_actual\n",
        "\n",
        "eval_accuracy, avg_loss, _, _ = evaluate_model(model, test_loader)\n",
        "print(f\"Evaluation Accuracy: {eval_accuracy * 100:.2f}%\")\n",
        "print(f\"Evaluation Average Loss: {avg_loss:.4f}\")\n"
      ],
      "metadata": {
        "id": "YAbyCTLVqzAL",
        "colab": {
          "base_uri": "https://localhost:8080/"
        },
        "outputId": "50fd729b-5c81-42d5-d6ef-a922d846cb39"
      },
      "execution_count": null,
      "outputs": [
        {
          "output_type": "stream",
          "name": "stdout",
          "text": [
            "Evaluation Accuracy: 89.89%\n",
            "Evaluation Average Loss: 0.3105\n"
          ]
        }
      ]
    }
  ]
}